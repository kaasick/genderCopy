{
 "cells": [
  {
   "cell_type": "code",
   "execution_count": 1,
   "id": "5a38243d",
   "metadata": {},
   "outputs": [],
   "source": [
    "import os\n",
    "import numpy as np\n",
    "import pandas as pd"
   ]
  },
  {
   "cell_type": "code",
   "execution_count": 2,
   "id": "1110189f",
   "metadata": {},
   "outputs": [],
   "source": [
    "files = ['1.csv', '2.csv', '3.csv', '4.csv', '5.csv', '6.csv']"
   ]
  },
  {
   "cell_type": "code",
   "execution_count": 3,
   "id": "c6cf2646",
   "metadata": {},
   "outputs": [],
   "source": [
    "#reading all the files into dataframes\n",
    "df1 = pd.read_csv('1.csv')\n",
    "df2 = pd.read_csv('2.csv')\n",
    "df3 = pd.read_csv('3.csv')\n",
    "df4 = pd.read_csv('4.csv')\n",
    "df5 = pd.read_csv('5.csv')\n",
    "df6 = pd.read_csv('6.csv')"
   ]
  },
  {
   "cell_type": "code",
   "execution_count": 4,
   "id": "8620848d",
   "metadata": {},
   "outputs": [],
   "source": [
    "dfs = [df1, df2, df3, df4, df5, df6]\n",
    "\n",
    "data = pd.concat(dfs, axis=0, ignore_index=True)"
   ]
  },
  {
   "cell_type": "code",
   "execution_count": 5,
   "id": "ae6e3149",
   "metadata": {},
   "outputs": [],
   "source": [
    "data = data.iloc[:-5,:]\n",
    "\n",
    "data = data.rename(columns={\"Series Name\": \"series_name\", \"Series Code\": \"series_code\", \"Country Name\":\"country_name\", \"Country Code\":\"country_code\",\n",
    "                                  \"2003 [YR2003]\" : \"2003\", \"2004 [YR2004]\": \"2004\" ,\"2005 [YR2005]\": \"2005\", \"2006 [YR2006]\": \"2006\",\n",
    "                                  \"2007 [YR2007]\" : \"2007\", \"2008 [YR2008]\": \"2008\", \"2009 [YR2009]\": \"2009\", \"2010 [YR2010]\": \"2010\", \n",
    "                                  \"2011 [YR2011]\" : \"2011\", \"2012 [YR2012]\": \"2012\", \"2013 [YR2013]\": \"2013\", \"2014 [YR2014]\": \"2014\", \n",
    "                                  \"2015 [YR2015]\" : \"2015\", \"2016 [YR2016]\": \"2016\", \"2017 [YR2017]\": \"2017\", \"2018 [YR2018]\": \"2018\", \n",
    "                                  \"2019 [YR2019]\" : \"2019\", \"2020 [YR2020]\": \"2020\", \"2021 [YR2021]\": \"2021\", \"2022 [YR2022]\": \"2022\"})\n",
    "data = data.drop(\"series_code\", axis=1)\n"
   ]
  },
  {
   "cell_type": "code",
   "execution_count": 6,
   "id": "d41b4a76",
   "metadata": {},
   "outputs": [],
   "source": [
    "# move year columns into one\n",
    "df_pivot = data.melt(id_vars=[\"series_name\",\"country_name\", \"country_code\"], \n",
    "        var_name=\"year\", \n",
    "        value_name=\"value\")\n",
    "\n",
    "# move rows into columns\n",
    "gender_df = pd.pivot_table(df_pivot, values='value', index=['country_name', \"country_code\", \"year\"], columns=['series_name'], aggfunc=\"sum\")\n",
    "\n",
    "# remove multi_index\n",
    "gender_df.columns = [col for col in gender_df.columns]\n",
    "gender_df.reset_index(inplace=True)\n",
    "\n",
    "# replace all .. with NAN\n",
    "gender_df = gender_df.replace(-1, np.nan)"
   ]
  },
  {
   "cell_type": "code",
   "execution_count": 7,
   "id": "2827d29c",
   "metadata": {},
   "outputs": [],
   "source": [
    "gender_df.shape\n",
    "\n",
    "\n",
    "# Convert non-numeric values to NaN\n",
    "gender_df.replace('..', pd.NA, inplace=True)\n",
    "\n",
    "start_column = 'A woman can apply for a passport in the same way as a man (1=yes; 0=no)'\n",
    "selected_columns = gender_df.columns[gender_df.columns.get_loc(start_column):]\n",
    "\n",
    "\n",
    "# Convert selected columns to numeric\n",
    "gender_df[selected_columns] = gender_df[selected_columns].apply(pd.to_numeric, errors='coerce')\n",
    "\n",
    "# Group by country and calculate the mean for each indicator\n",
    "average_by_country = gender_df.groupby('country_name')[selected_columns].mean().reset_index()"
   ]
  },
  {
   "cell_type": "code",
   "execution_count": 27,
   "id": "d75321ce",
   "metadata": {},
   "outputs": [],
   "source": [
    "df_filtered = average_by_country.dropna(axis=1, thresh=230)\n",
    "df_filtered.to_csv('average_by_country.csv', index=False)\n",
    "\n"
   ]
  },
  {
   "cell_type": "code",
   "execution_count": 28,
   "id": "5148db93",
   "metadata": {},
   "outputs": [
    {
     "data": {
      "text/plain": [
       "(265, 268)"
      ]
     },
     "execution_count": 28,
     "metadata": {},
     "output_type": "execute_result"
    }
   ],
   "source": [
    "df_filtered.shape"
   ]
  }
 ],
 "metadata": {
  "kernelspec": {
   "display_name": "Python 3 (ipykernel)",
   "language": "python",
   "name": "python3"
  },
  "language_info": {
   "codemirror_mode": {
    "name": "ipython",
    "version": 3
   },
   "file_extension": ".py",
   "mimetype": "text/x-python",
   "name": "python",
   "nbconvert_exporter": "python",
   "pygments_lexer": "ipython3",
   "version": "3.11.4"
  }
 },
 "nbformat": 4,
 "nbformat_minor": 5
}
